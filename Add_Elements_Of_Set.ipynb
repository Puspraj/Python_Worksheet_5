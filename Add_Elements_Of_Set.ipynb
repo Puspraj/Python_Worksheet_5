{
 "cells": [
  {
   "cell_type": "code",
   "execution_count": 1,
   "metadata": {},
   "outputs": [
    {
     "name": "stdout",
     "output_type": "stream",
     "text": [
      "After adding elements of set:\n",
      "{1, 'Puspraj', 2, 'CSE'}\n"
     ]
    }
   ],
   "source": [
    "set_1=set()\n",
    "set_1.add(1)\n",
    "set_1.add('Puspraj')\n",
    "set_1.add(2)\n",
    "set_1.add('CSE')\n",
    "print('After adding elements of set:')\n",
    "print(set_1)"
   ]
  },
  {
   "cell_type": "code",
   "execution_count": null,
   "metadata": {},
   "outputs": [],
   "source": []
  }
 ],
 "metadata": {
  "kernelspec": {
   "display_name": "Python 3",
   "language": "python",
   "name": "python3"
  },
  "language_info": {
   "codemirror_mode": {
    "name": "ipython",
    "version": 3
   },
   "file_extension": ".py",
   "mimetype": "text/x-python",
   "name": "python",
   "nbconvert_exporter": "python",
   "pygments_lexer": "ipython3",
   "version": "3.7.4"
  }
 },
 "nbformat": 4,
 "nbformat_minor": 2
}
