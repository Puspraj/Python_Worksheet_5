{
 "cells": [
  {
   "cell_type": "code",
   "execution_count": 1,
   "metadata": {},
   "outputs": [
    {
     "name": "stdout",
     "output_type": "stream",
     "text": [
      "Unique:  {1, 2, 3, 4, 5, 6, 7, 8, 9}\n",
      "Intersection:  {2, 3, 4, 6, 9}\n",
      "Difference:  {8, 5}\n",
      "Symmetric_difference:  {1, 5, 7, 8}\n"
     ]
    }
   ],
   "source": [
    "A={2,5,6,8,9,3,4}\n",
    "B={2,4,6,7,9,1,3}\n",
    "\n",
    "print(\"Unique: \",A|B)\n",
    "\n",
    "print(\"Intersection: \", A&B)\n",
    "\n",
    "print(\"Difference: \", A-B)\n",
    "\n",
    "print(\"Symmetric_difference: \",A^B)"
   ]
  },
  {
   "cell_type": "code",
   "execution_count": null,
   "metadata": {},
   "outputs": [],
   "source": []
  }
 ],
 "metadata": {
  "kernelspec": {
   "display_name": "Python 3",
   "language": "python",
   "name": "python3"
  },
  "language_info": {
   "codemirror_mode": {
    "name": "ipython",
    "version": 3
   },
   "file_extension": ".py",
   "mimetype": "text/x-python",
   "name": "python",
   "nbconvert_exporter": "python",
   "pygments_lexer": "ipython3",
   "version": "3.7.4"
  }
 },
 "nbformat": 4,
 "nbformat_minor": 2
}
